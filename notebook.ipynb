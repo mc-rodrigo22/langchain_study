{
 "cells": [
  {
   "cell_type": "code",
   "execution_count": 3,
   "metadata": {},
   "outputs": [],
   "source": [
    "from langchain.chat_models import ChatOpenAI\n",
    "from langchain.prompts import ChatPromptTemplate\n",
    "from langchain.callbacks import StreamingStdOutCallbackHandler\n",
    "\n",
    "chat = ChatOpenAI(\n",
    "    temperature=0.1,\n",
    "    streaming=True,\n",
    "    callbacks=[\n",
    "        StreamingStdOutCallbackHandler(),\n",
    "    ],\n",
    ")\n",
    "\n",
    "poetry_prompt = ChatPromptTemplate.from_messages(\n",
    "    [\n",
    "        (\"system\", \"You are a poetry specialized in writing Haikus about programming languages. Write down a Haikus about programming language which a human requires. The poet should show characteristic of the language.\"),\n",
    "        (\"human\", \"I want a Haikus about {language}.\"),\n",
    "    ]\n",
    ")\n",
    "\n",
    "poetry_chain = poetry_prompt | chat"
   ]
  },
  {
   "cell_type": "code",
   "execution_count": 4,
   "metadata": {},
   "outputs": [
    {
     "name": "stdout",
     "output_type": "stream",
     "text": [
      "Indentation rules,\n",
      "Clean syntax and simplicity,\n",
      "Pythonic beauty.Let me explain this poem to you in a simple way. This poem is about a programming language called Python. The poet is talking about how Python is special because it has rules that make the code look neat and clean. The poet also mentions that Python is beautiful because it is simple and easy to understand. So, just like how a beautiful painting is simple and easy to look at, Python is beautiful because it is simple and easy to use."
     ]
    },
    {
     "data": {
      "text/plain": [
       "AIMessageChunk(content='Let me explain this poem to you in a simple way. This poem is about a programming language called Python. The poet is talking about how Python is special because it has rules that make the code look neat and clean. The poet also mentions that Python is beautiful because it is simple and easy to understand. So, just like how a beautiful painting is simple and easy to look at, Python is beautiful because it is simple and easy to use.', additional_kwargs={}, example=False)"
      ]
     },
     "execution_count": 4,
     "metadata": {},
     "output_type": "execute_result"
    }
   ],
   "source": [
    "explain_prompt = ChatPromptTemplate.from_messages(\n",
    "    [\n",
    "        (\"system\", \"You are an expert who is specialized in explainning a poet. You know everything about any poet, and also you can explain about it very easily that 7-years old children can understand it.\"),\n",
    "        (\"human\", \"{poet}\"),\n",
    "    ]\n",
    ")\n",
    "\n",
    "explain_chain = explain_prompt | chat\n",
    "\n",
    "final_chain = {\"poet\": poetry_chain} | explain_chain\n",
    "\n",
    "final_chain.invoke({\"language\": \"python\"})"
   ]
  }
 ],
 "metadata": {
  "kernelspec": {
   "display_name": "env3.11.6",
   "language": "python",
   "name": "python3"
  },
  "language_info": {
   "codemirror_mode": {
    "name": "ipython",
    "version": 3
   },
   "file_extension": ".py",
   "mimetype": "text/x-python",
   "name": "python",
   "nbconvert_exporter": "python",
   "pygments_lexer": "ipython3",
   "version": "3.11.6"
  }
 },
 "nbformat": 4,
 "nbformat_minor": 2
}
