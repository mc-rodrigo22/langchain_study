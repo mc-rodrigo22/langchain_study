{
 "cells": [
  {
   "cell_type": "code",
   "execution_count": 3,
   "metadata": {},
   "outputs": [
    {
     "name": "stdout",
     "output_type": "stream",
     "text": [
      "\n",
      "        Ok. Here are the things what I know about that movie!:\n",
      "        Director: Bong Joon-ho\n",
      "        Main cast: Song Kang-ho, Lee Sun-kyun, Cho Yeo-jeong, Choi Woo-shik, Park So-dam\n",
      "        Budget: $11 million\n",
      "        Box office (Revenue): $266.8 million\n",
      "        Genre: Thriller, Drama, Dark Comedy\n",
      "        Small synopsis:\n",
      "        \"Parasite\" (2019) is a South Korean film that follows the Kim family, who infiltrate the wealthy Park family by posing as unrelated skilled workers. The film explores themes of class division, social inequality, and the consequences of greed in a darkly comedic and thrilling narrative. \"Parasite\" made history by winning the Palme d'Or at the Cannes Film Festival and the Academy Award for Best Picture, among other accolades."
     ]
    },
    {
     "data": {
      "text/plain": [
       "AIMessageChunk(content='\\n        Ok. Here are the things what I know about that movie!:\\n        Director: Bong Joon-ho\\n        Main cast: Song Kang-ho, Lee Sun-kyun, Cho Yeo-jeong, Choi Woo-shik, Park So-dam\\n        Budget: $11 million\\n        Box office (Revenue): $266.8 million\\n        Genre: Thriller, Drama, Dark Comedy\\n        Small synopsis:\\n        \"Parasite\" (2019) is a South Korean film that follows the Kim family, who infiltrate the wealthy Park family by posing as unrelated skilled workers. The film explores themes of class division, social inequality, and the consequences of greed in a darkly comedic and thrilling narrative. \"Parasite\" made history by winning the Palme d\\'Or at the Cannes Film Festival and the Academy Award for Best Picture, among other accolades.', additional_kwargs={}, example=False)"
      ]
     },
     "execution_count": 3,
     "metadata": {},
     "output_type": "execute_result"
    }
   ],
   "source": [
    "from langchain.chat_models import ChatOpenAI\n",
    "from langchain.prompts.few_shot import FewShotChatMessagePromptTemplate\n",
    "from langchain.callbacks import StreamingStdOutCallbackHandler\n",
    "from langchain.prompts import ChatMessagePromptTemplate, ChatPromptTemplate\n",
    "\n",
    "chat = ChatOpenAI(\n",
    "    temperature=0.1,\n",
    "    streaming=True,\n",
    "    callbacks=[\n",
    "        StreamingStdOutCallbackHandler(),\n",
    "    ],\n",
    ")\n",
    "\n",
    "\n",
    "examples = [\n",
    "    {\n",
    "        \"movie\": \"Iron Man\",\n",
    "        \"answer\": \"\"\"\n",
    "        Ok. Here are the things what I know about that movie!:\n",
    "        Director: Jon Favreau\n",
    "        Main cast: Robert Downey Jr., Gwyneth Paltrow, Terrence Howard, Jeff Bridges\n",
    "        Budget: $140 million\n",
    "        Box office(Revenue): $585.8 million\n",
    "        Genre: Action, Adventure, Science Fiction\n",
    "        Small synopsis: \"Iron Man\" (2008) follows the story of Tony Stark, a billionaire industrialist and genius inventor who is kidnapped by terrorists. Using his intelligence, he builds a high-tech suit of armor to escape. Upon returning home, he refines his suit and decides to use it to fight against evil, transforming into the superhero known as Iron Man. The movie marks the beginning of the Marvel Cinematic Universe (MCU).\n",
    "        \"\"\",\n",
    "    },\n",
    "    {\n",
    "        \"movie\": \"The Avengers\",\n",
    "        \"answer\": \"\"\"\n",
    "        Ok. Here are the things what I know about that movie!:\n",
    "        Director: Joss Whedon\n",
    "        Main cast: Robert Downey Jr., Chris Evans, Mark Ruffalo, Chris Hemsworth, Scarlett Johansson, Jeremy Renner, Tom Hiddleston, Samuel L. Jackson\n",
    "        Budget: $220 million\n",
    "        Box office (Revenue): $1.519 billion\n",
    "        Genre: Action, Adventure, Science Fiction\n",
    "        Small synopsis:\n",
    "        \"The Avengers\" (2012) brings together Earth's mightiest heroes—Iron Man, Captain America, Thor, Hulk, Black Widow, and Hawkeye—who must unite to stop Loki, the god of mischief, from conquering Earth with the help of an alien army. The film showcases their struggle to work as a team and defend humanity, establishing the Marvel Cinematic Universe as a blockbuster franchise.\n",
    "        \"\"\",\n",
    "    },\n",
    "    {\n",
    "        \"movie\": \"Doctor Strange\",\n",
    "        \"answer\": \"\"\"\n",
    "        Ok. Here are the things what I know about that movie!:\n",
    "        Director: Scott Derrickson\n",
    "        Main cast: Benedict Cumberbatch, Chiwetel Ejiofor, Rachel McAdams, Benedict Wong, Mads Mikkelsen, Tilda Swinton\n",
    "        Budget: $165 million\n",
    "        Box office (Revenue): $677.8 million\n",
    "        Genre: Action, Adventure, Fantasy\n",
    "        Small synopsis:\n",
    "        \"Doctor Strange\" (2016) follows the story of Dr. Stephen Strange, a brilliant but arrogant neurosurgeon whose career ends after a devastating car accident damages his hands. Desperate to heal, he journeys to Kamar-Taj, where he encounters the Ancient One and learns the mystic arts. As he masters magical powers, he must protect the world from dark forces threatening reality.\n",
    "        \"\"\",\n",
    "    },\n",
    "]\n",
    "\n",
    "\n",
    "example_prompt = ChatPromptTemplate.from_messages(\n",
    "    [\n",
    "        (\"human\", \"What do you know about {movie}?\"),\n",
    "        (\"ai\", \"{answer}\"),\n",
    "    ]\n",
    ")\n",
    "\n",
    "example_prompt = FewShotChatMessagePromptTemplate(\n",
    "    example_prompt=example_prompt,\n",
    "    examples=examples,\n",
    ")\n",
    "\n",
    "final_prompt = ChatPromptTemplate.from_messages(\n",
    "    [\n",
    "        (\"system\", \"You are a movie expert, please give short answers.\"),\n",
    "        example_prompt,\n",
    "        (\"human\", \"What do you know about {movie}?\"),\n",
    "    ]\n",
    ")\n",
    "\n",
    "chain = final_prompt | chat\n",
    "\n",
    "chain.invoke({\"movie\": \"Parasite\"})"
   ]
  }
 ],
 "metadata": {
  "kernelspec": {
   "display_name": "env3.11.6",
   "language": "python",
   "name": "python3"
  },
  "language_info": {
   "codemirror_mode": {
    "name": "ipython",
    "version": 3
   },
   "file_extension": ".py",
   "mimetype": "text/x-python",
   "name": "python",
   "nbconvert_exporter": "python",
   "pygments_lexer": "ipython3",
   "version": "3.11.6"
  }
 },
 "nbformat": 4,
 "nbformat_minor": 2
}
