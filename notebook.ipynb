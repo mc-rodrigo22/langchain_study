{
 "cells": [
  {
   "cell_type": "code",
   "execution_count": 5,
   "metadata": {},
   "outputs": [],
   "source": [
    "from langchain.chat_models import ChatOpenAI\n",
    "from langchain.prompts import ChatPromptTemplate\n",
    "from langchain.callbacks import StreamingStdOutCallbackHandler\n",
    "\n",
    "chat = ChatOpenAI(temperature=0.1, streaming=True, callbacks=[StreamingStdOutCallbackHandler()])\n",
    "\n",
    "chef_prompt = ChatPromptTemplate.from_messages([\n",
    "    (\"system\", \"You are a world-class international chef. You create easy to follow recipies for any type of cuisine with easy to find ingredients.\"),\n",
    "    (\"human\", \"I want to cook {cuisine} food.\"),\n",
    "])\n",
    "\n",
    "chef_chain = chef_prompt | chat\n"
   ]
  },
  {
   "cell_type": "code",
   "execution_count": 6,
   "metadata": {},
   "outputs": [
    {
     "name": "stdout",
     "output_type": "stream",
     "text": [
      "Great choice! Indian cuisine is known for its bold flavors and aromatic spices. Let's start with a classic and popular dish - Chicken Tikka Masala. Here's a simple recipe for you to try at home:\n",
      "\n",
      "Ingredients:\n",
      "- 1 lb boneless, skinless chicken breasts, cut into bite-sized pieces\n",
      "- 1 cup plain yogurt\n",
      "- 2 tablespoons lemon juice\n",
      "- 2 tablespoons vegetable oil\n",
      "- 1 onion, finely chopped\n",
      "- 3 cloves garlic, minced\n",
      "- 1 tablespoon ginger, minced\n",
      "- 1 can (14 oz) tomato sauce\n",
      "- 1 tablespoon garam masala\n",
      "- 1 teaspoon ground cumin\n",
      "- 1 teaspoon ground coriander\n",
      "- 1 teaspoon paprika\n",
      "- 1/2 teaspoon turmeric\n",
      "- Salt and pepper to taste\n",
      "- Fresh cilantro, chopped (for garnish)\n",
      "- Cooked rice or naan bread (for serving)\n",
      "\n",
      "Instructions:\n",
      "1. In a bowl, combine the yogurt, lemon juice, 1 tablespoon of vegetable oil, half of the minced garlic, half of the minced ginger, and a pinch of salt. Add the chicken pieces and mix well to coat. Cover and marinate in the refrigerator for at least 1 hour, or overnight for best results.\n",
      "\n",
      "2. Preheat the oven to 400°F (200°C). Thread the marinated chicken pieces onto skewers and place them on a baking sheet lined with aluminum foil. Bake for 20-25 minutes, or until the chicken is cooked through and slightly charred.\n",
      "\n",
      "3. In a large skillet, heat the remaining tablespoon of vegetable oil over medium heat. Add the chopped onion and sauté until softened, about 5 minutes. Add the remaining garlic and ginger, and cook for another minute until fragrant.\n",
      "\n",
      "4. Stir in the tomato sauce, garam masala, cumin, coriander, paprika, turmeric, salt, and pepper. Simmer the sauce for about 10 minutes, allowing the flavors to meld together.\n",
      "\n",
      "5. Add the cooked chicken tikka pieces to the sauce and simmer for an additional 5 minutes.\n",
      "\n",
      "6. Serve the Chicken Tikka Masala over cooked rice or with naan bread. Garnish with chopped cilantro and enjoy!\n",
      "\n",
      "This Chicken Tikka Masala recipe is sure to impress your friends and family with its rich and flavorful taste. Feel free to adjust the spice levels to suit your preference. Enjoy your homemade Indian feast!As a vegetarian chef specialized in making traditional recipes vegetarian, I can offer you a delicious alternative to the Chicken Tikka Masala recipe using paneer instead of chicken. Paneer is a popular Indian cheese that is firm in texture and absorbs flavors well, making it a great substitute in this dish.\n",
      "\n",
      "Here's how you can modify the recipe to make Paneer Tikka Masala:\n",
      "\n",
      "Ingredients:\n",
      "- 1 lb paneer, cut into bite-sized cubes\n",
      "- 1 cup plain yogurt\n",
      "- 2 tablespoons lemon juice\n",
      "- 2 tablespoons vegetable oil\n",
      "- 1 onion, finely chopped\n",
      "- 3 cloves garlic, minced\n",
      "- 1 tablespoon ginger, minced\n",
      "- 1 can (14 oz) tomato sauce\n",
      "- 1 tablespoon garam masala\n",
      "- 1 teaspoon ground cumin\n",
      "- 1 teaspoon ground coriander\n",
      "- 1 teaspoon paprika\n",
      "- 1/2 teaspoon turmeric\n",
      "- Salt and pepper to taste\n",
      "- Fresh cilantro, chopped (for garnish)\n",
      "- Cooked rice or naan bread (for serving)\n",
      "\n",
      "Instructions:\n",
      "1. Follow the same marinating process as the original recipe, but substitute the chicken with paneer cubes. Marinate the paneer in the yogurt, lemon juice, vegetable oil, garlic, ginger, and salt for at least 1 hour.\n",
      "\n",
      "2. Instead of baking the paneer, you can grill the marinated paneer cubes on skewers or in a grill pan until they are slightly charred.\n",
      "\n",
      "3. In the skillet, follow the same steps for sautéing the onion, garlic, and ginger. Add the tomato sauce, garam masala, cumin, coriander, paprika, turmeric, salt, and pepper. Simmer the sauce for about 10 minutes.\n",
      "\n",
      "4. Add the grilled paneer pieces to the sauce and simmer for an additional 5 minutes to allow the flavors to meld together.\n",
      "\n",
      "5. Serve the Paneer Tikka Masala over cooked rice or with naan bread. Garnish with chopped cilantro and enjoy your vegetarian twist on this classic Indian dish!\n",
      "\n",
      "By making this simple substitution of paneer for chicken, you can enjoy a flavorful and satisfying vegetarian version of Chicken Tikka Masala. I hope you and your guests enjoy this delicious meat-free alternative!"
     ]
    },
    {
     "data": {
      "text/plain": [
       "AIMessageChunk(content=\"As a vegetarian chef specialized in making traditional recipes vegetarian, I can offer you a delicious alternative to the Chicken Tikka Masala recipe using paneer instead of chicken. Paneer is a popular Indian cheese that is firm in texture and absorbs flavors well, making it a great substitute in this dish.\\n\\nHere's how you can modify the recipe to make Paneer Tikka Masala:\\n\\nIngredients:\\n- 1 lb paneer, cut into bite-sized cubes\\n- 1 cup plain yogurt\\n- 2 tablespoons lemon juice\\n- 2 tablespoons vegetable oil\\n- 1 onion, finely chopped\\n- 3 cloves garlic, minced\\n- 1 tablespoon ginger, minced\\n- 1 can (14 oz) tomato sauce\\n- 1 tablespoon garam masala\\n- 1 teaspoon ground cumin\\n- 1 teaspoon ground coriander\\n- 1 teaspoon paprika\\n- 1/2 teaspoon turmeric\\n- Salt and pepper to taste\\n- Fresh cilantro, chopped (for garnish)\\n- Cooked rice or naan bread (for serving)\\n\\nInstructions:\\n1. Follow the same marinating process as the original recipe, but substitute the chicken with paneer cubes. Marinate the paneer in the yogurt, lemon juice, vegetable oil, garlic, ginger, and salt for at least 1 hour.\\n\\n2. Instead of baking the paneer, you can grill the marinated paneer cubes on skewers or in a grill pan until they are slightly charred.\\n\\n3. In the skillet, follow the same steps for sautéing the onion, garlic, and ginger. Add the tomato sauce, garam masala, cumin, coriander, paprika, turmeric, salt, and pepper. Simmer the sauce for about 10 minutes.\\n\\n4. Add the grilled paneer pieces to the sauce and simmer for an additional 5 minutes to allow the flavors to meld together.\\n\\n5. Serve the Paneer Tikka Masala over cooked rice or with naan bread. Garnish with chopped cilantro and enjoy your vegetarian twist on this classic Indian dish!\\n\\nBy making this simple substitution of paneer for chicken, you can enjoy a flavorful and satisfying vegetarian version of Chicken Tikka Masala. I hope you and your guests enjoy this delicious meat-free alternative!\")"
      ]
     },
     "execution_count": 6,
     "metadata": {},
     "output_type": "execute_result"
    }
   ],
   "source": [
    "veg_chef_prompt = ChatPromptTemplate.from_messages([\n",
    "    (\"system\", \"You are a vegetarian chef specialized on making traditional recipies vegetarian. You find alternative ingredients and explain their preparation. You don't radically modify the recipe. If there is no alternative for a food just say you don't know how to replace it.\"),\n",
    "    (\"human\", \"{recipe}\")\n",
    "])\n",
    "\n",
    "veg_chain = veg_chef_prompt | chat\n",
    "\n",
    "final_chain = {\"recipe\": chef_chain} | veg_chain\n",
    "\n",
    "final_chain.invoke({\n",
    "    \"cuisine\": \"indian\"\n",
    "})"
   ]
  },
  {
   "cell_type": "code",
   "execution_count": 2,
   "metadata": {},
   "outputs": [
    {
     "data": {
      "text/plain": [
       "['Hello', 'how', 'are', 'you']"
      ]
     },
     "execution_count": 2,
     "metadata": {},
     "output_type": "execute_result"
    }
   ],
   "source": [
    "from langchain.schema import BaseOutputParser\n",
    "\n",
    "class CommaOutputParser(BaseOutputParser):\n",
    "    def parse(self,text):\n",
    "        items = text.strip().split(\",\")\n",
    "        return list(map(str.strip,items))\n",
    "    \n",
    "p = CommaOutputParser()\n",
    "\n",
    "p.parse(\"Hello, how, are,you\")"
   ]
  },
  {
   "cell_type": "code",
   "execution_count": 9,
   "metadata": {},
   "outputs": [
    {
     "data": {
      "text/plain": [
       "['red',\n",
       " 'blue',\n",
       " 'green',\n",
       " 'yellow',\n",
       " 'orange',\n",
       " 'purple',\n",
       " 'pink',\n",
       " 'black',\n",
       " 'white',\n",
       " 'brown']"
      ]
     },
     "execution_count": 9,
     "metadata": {},
     "output_type": "execute_result"
    }
   ],
   "source": [
    "template = ChatPromptTemplate.from_messages([\n",
    "    (\"system\", \"You are a list generating machine. Everything you are asked will be answered with a comma seperated list of max {max_items} in lowercase. Do NOT reply with anything else.\"),\n",
    "    (\"human\", \"{question}\"),\n",
    "    ]\n",
    ")\n",
    "\n",
    "prompt = template.format_messages(\n",
    "    max_items=10,\n",
    "    question=\"What are the colors?\"\n",
    ")\n",
    "\n",
    "result = chat.predict_messages(prompt)\n",
    "\n",
    "p = CommaOutputParser()\n",
    "\n",
    "p.parse(result.content)"
   ]
  },
  {
   "cell_type": "code",
   "execution_count": null,
   "metadata": {},
   "outputs": [
    {
     "data": {
      "text/plain": [
       "['pikachu', 'charmander', 'bulbasaur', 'squirtle', 'jigglypuff']"
      ]
     },
     "execution_count": 10,
     "metadata": {},
     "output_type": "execute_result"
    }
   ],
   "source": [
    "template = ChatPromptTemplate.from_messages([\n",
    "    (\"system\", \"You are a list generating machine. Everything you are asked will be answered with a comma seperated list of max {max_items} in lowercase. Do NOT reply with anything else.\"),\n",
    "    (\"human\", \"{question}\"),\n",
    "    ]\n",
    ")\n",
    "\n",
    "chain = template | chat | CommaOutputParser()\n",
    "\n",
    "chain.invoke(\n",
    "    {\n",
    "    \"max_items\":5,\n",
    "    \"question\":\"What are the pokemons?\"\n",
    "    }\n",
    ")\n",
    "\n",
    "\n"
   ]
  },
  {
   "cell_type": "code",
   "execution_count": 5,
   "metadata": {},
   "outputs": [
    {
     "data": {
      "text/plain": [
       "AIMessage(content='La distancia entre México y Japón es de aproximadamente 11,500 kilómetros. Mi nombre es Rodrigo. ¿En qué más puedo ayudarte?')"
      ]
     },
     "execution_count": 5,
     "metadata": {},
     "output_type": "execute_result"
    }
   ],
   "source": [
    "template = ChatPromptTemplate.from_messages(\n",
    "    [\n",
    "        (\"system\", \"You are a geography expert. And you only reply in {language}.\"),\n",
    "        (\"ai\", \"Hola, soy {name}!\"),\n",
    "        (\"human\", \"What is distant between {country_a} and {country_b}. Also, what is your name?\"),\n",
    "    ]\n",
    ")\n",
    "\n",
    "prompt = template.format_messages(\n",
    "    language=\"Spanish\",\n",
    "    name=\"Rodrigo\",\n",
    "    country_a=\"Mexico\",\n",
    "    country_b=\"Japan\",\n",
    ")\n",
    "\n",
    "chat.predict_messages(prompt)"
   ]
  }
 ],
 "metadata": {
  "kernelspec": {
   "display_name": "env3.11.6",
   "language": "python",
   "name": "python3"
  },
  "language_info": {
   "codemirror_mode": {
    "name": "ipython",
    "version": 3
   },
   "file_extension": ".py",
   "mimetype": "text/x-python",
   "name": "python",
   "nbconvert_exporter": "python",
   "pygments_lexer": "ipython3",
   "version": "3.11.6"
  }
 },
 "nbformat": 4,
 "nbformat_minor": 2
}
