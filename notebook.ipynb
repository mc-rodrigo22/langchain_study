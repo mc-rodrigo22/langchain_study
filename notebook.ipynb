{
 "cells": [
  {
   "cell_type": "code",
   "execution_count": 3,
   "metadata": {},
   "outputs": [],
   "source": [
    "from langchain.chat_models import ChatOpenAI\n",
    "from langchain.prompts import FewShotPromptTemplate, PromptTemplate\n",
    "from langchain.memory import ConversationBufferMemory\n",
    "\n",
    "# Step 1: ChatOpenAI 및 메모리 설정\n",
    "llm = ChatOpenAI(temperature=0)\n",
    "memory = ConversationBufferMemory()\n",
    "\n",
    "# Step 2: FewShotPromptTemplate 설정\n",
    "example_template = PromptTemplate(\n",
    "    input_variables=[\"input\", \"output\"],\n",
    "    template=\"User: {input}\\nAssistant: {output}\"\n",
    ")\n",
    "\n",
    "examples = [\n",
    "    {\"input\": \"Top Gun\", \"output\": \"🛩️👨‍✈️🔥\"},\n",
    "    {\"input\": \"The Godfather\", \"output\": \"👨‍👨‍👦🔫🍝\"},\n",
    "    {\"input\": \"Frozen\", \"output\": \"❄️⛄👩‍👩‍👦\"}\n",
    "]\n",
    "\n",
    "prompt_template = FewShotPromptTemplate(\n",
    "    examples=examples,\n",
    "    example_prompt=example_template,\n",
    "    prefix=\"The following are examples of how you should respond:\",\n",
    "    suffix=\"Now let's continue the conversation.\\nUser: {input}\\nAssistant:\",\n",
    "    input_variables=[\"input\"]\n",
    ")\n",
    "\n",
    "# Step 3: LCEL 체인 함수 정의\n",
    "def lcel_chain(input_text):\n",
    "    \"\"\"\n",
    "    사용자 입력에 대해 ChatOpenAI 및 메모리를 활용해 답변을 생성.\n",
    "    \"\"\"\n",
    "    # 이전 대화 포함\n",
    "    history = memory.load_memory_variables({}).get(\"history\", \"\")\n",
    "    formatted_prompt = f\"{history}\\n{prompt_template.format(input=input_text)}\"\n",
    "    \n",
    "    # LLM 예측 실행\n",
    "    response = llm.predict(formatted_prompt)\n",
    "    \n",
    "    # 메모리 업데이트\n",
    "    memory.save_context({\"input\": input_text}, {\"output\": response})\n",
    "    return response\n"
   ]
  },
  {
   "cell_type": "code",
   "execution_count": 4,
   "metadata": {},
   "outputs": [
    {
     "name": "stdout",
     "output_type": "stream",
     "text": [
      "🦾💥🔴\n"
     ]
    }
   ],
   "source": [
    "print(lcel_chain(\"Iron Man\"))"
   ]
  },
  {
   "cell_type": "code",
   "execution_count": 5,
   "metadata": {},
   "outputs": [
    {
     "name": "stdout",
     "output_type": "stream",
     "text": [
      "🧠👧👩‍👧‍👦\n"
     ]
    }
   ],
   "source": [
    "print(lcel_chain(\"Insideout\"))"
   ]
  },
  {
   "cell_type": "code",
   "execution_count": 6,
   "metadata": {},
   "outputs": [
    {
     "name": "stdout",
     "output_type": "stream",
     "text": [
      "Iron Man\n"
     ]
    }
   ],
   "source": [
    "print(lcel_chain(\"What was the first movie I asked about?\"))"
   ]
  }
 ],
 "metadata": {
  "kernelspec": {
   "display_name": "env3.11.6",
   "language": "python",
   "name": "python3"
  },
  "language_info": {
   "codemirror_mode": {
    "name": "ipython",
    "version": 3
   },
   "file_extension": ".py",
   "mimetype": "text/x-python",
   "name": "python",
   "nbconvert_exporter": "python",
   "pygments_lexer": "ipython3",
   "version": "3.11.6"
  }
 },
 "nbformat": 4,
 "nbformat_minor": 2
}
